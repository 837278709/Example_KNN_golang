{
 "cells": [
  {
   "cell_type": "markdown",
   "metadata": {},
   "source": [
    "# Machine Learning in Go\n",
    "---"
   ]
  },
  {
   "cell_type": "markdown",
   "metadata": {},
   "source": [
    "## What is Machine Learning? \n",
    "---\n",
    "Machine learning is teaching a program to recognize patterns. These patterns, once recognized can predict similar outcomes with extreme accuracy. \n",
    "\n",
    "There are several steps to building a Machine Learning model. These steps can be accomplished in almost every programming language. Languages like Python and R that have strong mathematical tooling are popular in the Machine Learning community and many libraries have been created to facilitate building these models.\n",
    "\n",
    "Go has a lot of benefits for machine learning. It has strong data typing, it is easily build and deployed. It also allows for concurrecy, which is important to processing large data sets. \n",
    "\n",
    "The plan is to run through setting up, training and testing a model in go. "
   ]
  },
  {
   "cell_type": "markdown",
   "metadata": {},
   "source": [
    "## Understanding Data\n",
    "---\n",
    "Start by accessing your data. "
   ]
  },
  {
   "cell_type": "code",
   "execution_count": 5,
   "metadata": {},
   "outputs": [
    {
     "data": {
      "text/plain": [
       "[7x13] DataFrame\n",
       "\n",
       "    column   ID           fLength:   fWidth:    fSize:   fConc:   fConc1:  ...\n",
       " 0: mean     9510.500000  53.250154  22.180966  2.825017 0.380327 0.214657 ...\n",
       " 1: stddev   5490.745396  42.364855  18.346056  0.472599 0.182813 0.110511 ...\n",
       " 2: min      1.000000     4.283500   0.000000   1.941300 0.013100 0.000300 ...\n",
       " 3: 25%      4755.000000  24.336000  11.863500  2.477100 0.235800 0.128400 ...\n",
       " 4: 50%      9510.000000  37.146400  17.139200  2.739600 0.354100 0.196500 ...\n",
       " 5: 75%      14265.000000 70.117500  24.739000  3.101600 0.503700 0.285200 ...\n",
       " 6: max      19020.000000 334.177000 256.382000 5.323300 0.893000 0.675200 ...\n",
       "    <string> <float>      <float>    <float>    <float>  <float>  <float>  ...\n",
       "\n",
       "Not Showing: fAsym: <float>, fM3Long: <float>, fM3Trans: <float>, fAlpha: <float>,\n",
       "fDist: <float>, class: <string>\n"
      ]
     },
     "execution_count": 5,
     "metadata": {},
     "output_type": "execute_result"
    }
   ],
   "source": [
    "import (\n",
    "    \"os\"\n",
    "    \"bufio\"\n",
    "    \"github.com/kniren/gota/dataframe\"\n",
    ")\n",
    "f, err := os.Open(\"data/magictelescope_csv.csv\")\n",
    "if err != nil {\n",
    "    panic(err)\n",
    "}\n",
    "r := bufio.NewReader(f)\n",
    "df := dataframe.ReadCSV(r)\n",
    "df.Describe()"
   ]
  },
  {
   "cell_type": "code",
   "execution_count": 7,
   "metadata": {},
   "outputs": [
    {
     "ename": "ERROR",
     "evalue": "repl.go:2:5: error loading package \"gomun.org/v1/plot/plot\" metadata, maybe you need to download (go get), compile (go build) and install (go install) it? can't find import: \"gomun.org/v1/plot/plot\"",
     "output_type": "error",
     "traceback": [
      "repl.go:2:5: error loading package \"gomun.org/v1/plot/plot\" metadata, maybe you need to download (go get), compile (go build) and install (go install) it? can't find import: \"gomun.org/v1/plot/plot\""
     ]
    }
   ],
   "source": [
    "import (\n",
    "    \"gomun.org/v1/plot\"\n",
    ")\n",
    "\n",
    "func displayPlot(p *plot.Plot) {\n",
    "   // This seems to be the best way to plot in jupyter at the moment?\n",
    "    w, err := p.WriterTo(8*vg.Inch, 8*vg.Inch, \"png\")\n",
    "    if err != nil{\n",
    "        panic(err)\n",
    "    }\n",
    "    var b bytes.Buffer\n",
    "    writer := bufio.NewWriter(&b)\n",
    "    w.WriteTo(writer)\n",
    "    Display(display.PNG(b.Bytes()))\n",
    "}"
   ]
  },
  {
   "cell_type": "code",
   "execution_count": null,
   "metadata": {},
   "outputs": [],
   "source": []
  }
 ],
 "metadata": {
  "kernelspec": {
   "display_name": "Go",
   "language": "go",
   "name": "gophernotes"
  },
  "language_info": {
   "codemirror_mode": "",
   "file_extension": ".go",
   "mimetype": "",
   "name": "go",
   "nbconvert_exporter": "",
   "pygments_lexer": "",
   "version": "go1.11.5"
  }
 },
 "nbformat": 4,
 "nbformat_minor": 2
}
