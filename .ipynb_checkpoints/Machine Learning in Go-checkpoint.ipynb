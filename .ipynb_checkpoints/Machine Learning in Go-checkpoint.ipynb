{
 "cells": [
  {
   "cell_type": "markdown",
   "metadata": {},
   "source": [
    "# Machine Learning in Go\n",
    "---"
   ]
  },
  {
   "cell_type": "markdown",
   "metadata": {},
   "source": [
    "## What is Machine Learning? \n",
    "---\n",
    "Machine learning is teaching a program to recognize patterns. These patterns, once recognized can predict similar outcomes with extreme accuracy. \n",
    "\n",
    "There are several steps to building a Machine Learning model. These steps can be accomplished in almost every programming language. Languages like Python and R that have strong mathematical tooling are popular in the Machine Learning community and many libraries have been created to facilitate building these models.\n",
    "\n",
    "Go has a lot of benefits for machine learning. It has strong data typing, it is easily build and deployed. It also allows for concurrecy, which is important to processing large data sets. \n",
    "\n",
    "The plan is to run through setting up, training and testing a model in go. "
   ]
  },
  {
   "cell_type": "markdown",
   "metadata": {},
   "source": [
    "## Understanding Data\n",
    "---\n",
    "Start by accessing your data. "
   ]
  },
  {
   "cell_type": "code",
   "execution_count": 13,
   "metadata": {},
   "outputs": [],
   "source": [
    "import (\n",
    "    \"os\"\n",
    "    \"bufio\"\n",
    "    \"github.com/kniren/gota/dataframe\"\n",
    "    )\n",
    "    f, err := os.Open(\"data/magictelescope_csv.csv\")\n",
    "    if err != nil {\n",
    "        fmt.Println(err)\n",
    "    }\n",
    "    r := bufio.NewReader(f)\n",
    "    df := dataframe.ReadCSV(r)\n",
    "    df\n",
    "f.Close()"
   ]
  },
  {
   "cell_type": "code",
   "execution_count": 14,
   "metadata": {},
   "outputs": [
    {
     "data": {
      "text/plain": [
       "[7x13] DataFrame\n",
       "\n",
       "    column   ID           fLength:   fWidth:    fSize:   fConc:   fConc1:  ...\n",
       " 0: mean     9510.500000  53.250154  22.180966  2.825017 0.380327 0.214657 ...\n",
       " 1: stddev   5490.745396  42.364855  18.346056  0.472599 0.182813 0.110511 ...\n",
       " 2: min      1.000000     4.283500   0.000000   1.941300 0.013100 0.000300 ...\n",
       " 3: 25%      4755.000000  24.336000  11.863500  2.477100 0.235800 0.128400 ...\n",
       " 4: 50%      9510.000000  37.146400  17.139200  2.739600 0.354100 0.196500 ...\n",
       " 5: 75%      14265.000000 70.117500  24.739000  3.101600 0.503700 0.285200 ...\n",
       " 6: max      19020.000000 334.177000 256.382000 5.323300 0.893000 0.675200 ...\n",
       "    <string> <float>      <float>    <float>    <float>  <float>  <float>  ...\n",
       "\n",
       "Not Showing: fAsym: <float>, fM3Long: <float>, fM3Trans: <float>, fAlpha: <float>,\n",
       "fDist: <float>, class: <string>\n"
      ]
     },
     "execution_count": 14,
     "metadata": {},
     "output_type": "execute_result"
    }
   ],
   "source": [
    "df.Describe()"
   ]
  },
  {
   "cell_type": "markdown",
   "metadata": {},
   "source": [
    "Put data into memory"
   ]
  },
  {
   "cell_type": "code",
   "execution_count": 24,
   "metadata": {},
   "outputs": [
    {
     "name": "stdout",
     "output_type": "stream",
     "text": [
      "// warning: expression returns 2 values, using only the first one: [int error]\n",
      "// warning: expression returns 2 values, using only the first one: [float64 error]\n",
      "// warning: expression returns 2 values, using only the first one: [float64 error]\n",
      "// warning: expression returns 2 values, using only the first one: [float64 error]\n",
      "// warning: expression returns 2 values, using only the first one: [float64 error]\n",
      "// warning: expression returns 2 values, using only the first one: [float64 error]\n",
      "// warning: expression returns 2 values, using only the first one: [float64 error]\n",
      "// warning: expression returns 2 values, using only the first one: [float64 error]\n",
      "// warning: expression returns 2 values, using only the first one: [float64 error]\n",
      "// warning: expression returns 2 values, using only the first one: [float64 error]\n",
      "// warning: expression returns 2 values, using only the first one: [float64 error]\n",
      "19021\n"
     ]
    }
   ],
   "source": [
    "import (\n",
    "    \"bytes\"\n",
    "    \"fmt\"\n",
    "    \"encoding/csv\"\n",
    "    \"gonum.org/v1/plot\"\n",
    "    \"gonum.org/v1/plot/vg\"\n",
    "    \"gonum.org/v1/plot/plotter\"\n",
    "    \"strconv\"\n",
    ")\n",
    "\n",
    "type GammaImage struct {\n",
    "    ID int\n",
    "    FLength float64\n",
    "    FWidth float64\n",
    "    FSize float64\n",
    "    FConc float64\n",
    "    FConcl float64\n",
    "    FAsym float64\n",
    "    FM3Long float64\n",
    "    FM3Trans float64\n",
    "    FAlpha float64\n",
    "    FDist float64\n",
    "    Class string\n",
    "}\n",
    "f, err := os.Open(\"data/magictelescope_csv.csv\")\n",
    "    if err != nil {\n",
    "        fmt.Println(err)\n",
    "    }\n",
    "reader := csv.NewReader(f)\n",
    "records, err := reader.ReadAll()\n",
    "if err != nil {\n",
    "    fmt.Println(err)\n",
    "}\n",
    "size:=len(records)\n",
    "images := make ([]GammaImage, size)\n",
    "\n",
    "for idx, img := range records{\n",
    "    \n",
    "    if idx != 0 {\n",
    "        image := GammaImage{\n",
    "            ID: strconv.Atoi(img[0]),\n",
    "            FLength: strconv.ParseFloat(img[1], 64),\n",
    "            FWidth: strconv.ParseFloat(img[2], 64),\n",
    "            FSize: strconv.ParseFloat(img[3], 64),\n",
    "            FConc: strconv.ParseFloat(img[4], 64),\n",
    "            FConcl: strconv.ParseFloat(img[5], 64),\n",
    "            FAsym: strconv.ParseFloat(img[6], 64),\n",
    "            FM3Long: strconv.ParseFloat(img[7], 64),\n",
    "            FM3Trans: strconv.ParseFloat(img[8], 64),\n",
    "            FAlpha: strconv.ParseFloat(img[9], 64),\n",
    "            FDist: strconv.ParseFloat(img[10], 64),\n",
    "            Class: img[11],\n",
    "        }\n",
    "        images = append(images, image)\n",
    "    }\n",
    "}\n",
    "\n"
   ]
  },
  {
   "cell_type": "code",
   "execution_count": 23,
   "metadata": {},
   "outputs": [
    {
     "ename": "ERROR",
     "evalue": "reflect: slice index out of range",
     "output_type": "error",
     "traceback": [
      "reflect: slice index out of range"
     ]
    }
   ],
   "source": [
    "pts := make(plotter.XYs, len(images)-1)\n",
    "for i, img := range images{\n",
    "    pts[i].X = img.FWidth\n",
    "    pts[i].Y = img.FSize\n",
    "}\n",
    "\n",
    "scatter, err := plotter.NewScatter(pts)\n",
    "    if err != nil {\n",
    "        fmt.Println(err)\n",
    "    }\n",
    "    \n",
    "p, err := plot.New()\n",
    "if err != nil {\n",
    "    fmt.Println(err)\n",
    "}\n",
    "p.Title.Text = \"Width vs Size\"\n",
    "p.X.Label.Text = \"Width\"\n",
    "p.Y.Label.Text = \"Size\"\n",
    "p.Add(scatter)\n",
    "    w, err := p.WriterTo(8*vg.Inch, 8*vg.Inch, \"png\")\n",
    "    if err != nil{\n",
    "        panic(err)\n",
    "    }\n",
    "    var b bytes.Buffer\n",
    "    writer := bufio.NewWriter(&b)\n",
    "    w.WriteTo(writer)\n",
    "    Display(display.PNG(b.Bytes()))"
   ]
  },
  {
   "cell_type": "markdown",
   "metadata": {},
   "source": [
    "Build our classifier"
   ]
  },
  {
   "cell_type": "code",
   "execution_count": null,
   "metadata": {},
   "outputs": [],
   "source": [
    "import \"github.com/sjwhitworth/golearn/knn\"\n",
    "import \"github.com/sjwhitworth/golearn/base\"\n",
    "import \"github.com/sjwhitworth/golearn/evaluation\"\n",
    "\n",
    "dataCSV, err := base.ParseCSVToInstances(\"data/magictelescope_csv.csv\", true)\n",
    "if err != nil {\n",
    "fmt.Println(err)\n",
    "}\n",
    "\n",
    "k := knn.NewKnnClassifier(\"euclidean\",\"linear\",2)\n",
    "\n",
    "//Do a training-test split\n",
    "trainData, testData := base.InstancesTrainTestSplit(dataCSV, 0.75)\n",
    "k.Fit(trainData)\n",
    "\n",
    "//Calculates the Euclidean distance and returns the most popular label\n",
    "predictions, err := k.Predict(testData)\n",
    "if err != nil {\n",
    "fmt.Println(err)\n",
    "}\n",
    "fmt.Println(predictions)\n",
    "\n",
    "// Prints precision/recall metrics\n",
    "confusionMat, err := evaluation.GetConfusionMatrix(testData, predictions)\n",
    "if err != nil {\n",
    "        fmt.Println(\"Unable to get confusion matrix: %s\", err.Error())\n",
    "}\n",
    "\n"
   ]
  },
  {
   "cell_type": "code",
   "execution_count": 12,
   "metadata": {},
   "outputs": [],
   "source": [
    "// Close the file.\n",
    "f.Close()"
   ]
  },
  {
   "cell_type": "code",
   "execution_count": null,
   "metadata": {},
   "outputs": [],
   "source": []
  }
 ],
 "metadata": {
  "kernelspec": {
   "display_name": "Go",
   "language": "go",
   "name": "gophernotes"
  },
  "language_info": {
   "codemirror_mode": "",
   "file_extension": ".go",
   "mimetype": "",
   "name": "go",
   "nbconvert_exporter": "",
   "pygments_lexer": "",
   "version": "go1.11.5"
  }
 },
 "nbformat": 4,
 "nbformat_minor": 2
}
