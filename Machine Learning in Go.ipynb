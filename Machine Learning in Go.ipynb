{
 "cells": [
  {
   "cell_type": "markdown",
   "metadata": {},
   "source": [
    "# Machine Learning in Go\n",
    "---"
   ]
  },
  {
   "cell_type": "markdown",
   "metadata": {},
   "source": [
    "## What is Machine Learning? \n",
    "---\n",
    "Machine learning is teaching a program to recognize patterns. These patterns, once recognized can predict similar outcomes with extreme \n",
    "]accuracy. \n",
    "\n",
    "There are several steps to building a Machine Learning model. These steps can be accomplished in almost every programming language. Languages like Python and R that have strong mathematical tooling are popular in the Machine Learning community and many libraries have been created to facilitate building these models.\n",
    "\n",
    "Go has a lot of benefits for machine learning. It has strong data typing, it is easily build and deployed. It also allows for concurrecy, which is important to processing large data sets. \n",
    "\n",
    "The plan is to run through setting up, training and testing a model in go. \n",
    "\n",
    "---\n",
    "\n",
    "The data used in this example is from the datahub.io[https://datahub.io/machine-learning/magictelescope]. It is gamma radiation images from hadronic showers. "
   ]
  },
  {
   "cell_type": "markdown",
   "metadata": {},
   "source": [
    "## Understanding Data\n",
    "---\n",
    "Start by accessing your data. We are using a dataframe to view the file because it gives us a nice clean table like view for reading data. The dataframes used here are from the gota/dataframe[https://github.com/go-gota/gota] package. Although good for visualization, dataframe types are not currently useful for anything other than viewing the data. "
   ]
  },
  {
   "cell_type": "code",
   "execution_count": null,
   "metadata": {},
   "outputs": [],
   "source": [
    "import (\n",
    "    \"os\"\n",
    "    \"fmt\"\n",
    "    \"bufio\"\n",
    "    \"github.com/kniren/gota/dataframe\"\n",
    ")\n",
    "// access file\n",
    "f, err := os.Open(\"data/magictelescope_csv.csv\")\n",
    "if err != nil {\n",
    "    fmt.Println(err)\n",
    "}\n",
    "r := bufio.NewReader(f)\n",
    "// parse data into the data frame type. \n",
    "df := dataframe.ReadCSV(r)\n",
    "fmt.Println(df)\n",
    "f.Close()"
   ]
  },
  {
   "cell_type": "markdown",
   "metadata": {},
   "source": [
    "Dataframes also do dasic statistical operations on data to we can get a clear understanding of what our data is and if the data needs to be further cleaned. "
   ]
  },
  {
   "cell_type": "code",
   "execution_count": null,
   "metadata": {},
   "outputs": [],
   "source": [
    "df.Describe()"
   ]
  },
  {
   "cell_type": "code",
   "execution_count": null,
   "metadata": {},
   "outputs": [],
   "source": [
    "fmt.Println(df.Select([]string{\"ID\", \"fWidth:\", \"fSize:\",\"class:\"}))"
   ]
  },
  {
   "cell_type": "markdown",
   "metadata": {},
   "source": [
    "The last step for understanding our data is visualizing it. We are using the gonum/plot [https://github.com/gonum/plot] library to make a scatter plot of the width vs size. "
   ]
  },
  {
   "cell_type": "code",
   "execution_count": null,
   "metadata": {},
   "outputs": [],
   "source": [
    "import (\n",
    "    \"bytes\"\n",
    "    \"fmt\"\n",
    "    \"encoding/csv\"\n",
    "    \"gonum.org/v1/plot\"\n",
    "    \"gonum.org/v1/plot/vg\"\n",
    "    \"gonum.org/v1/plot/plotter\"\n",
    "    \"strconv\"\n",
    ")\n",
    "\n",
    "type GammaImage struct {\n",
    "    ID int\n",
    "    FLength float64\n",
    "    FWidth float64\n",
    "    FSize float64\n",
    "    FConc float64\n",
    "    FConcl float64\n",
    "    FAsym float64\n",
    "    FM3Long float64\n",
    "    FM3Trans float64\n",
    "    FAlpha float64\n",
    "    FDist float64\n",
    "    Class string\n",
    "}\n",
    "\n",
    "f, err := os.Open(\"data/magictelescope_csv.csv\")\n",
    "    if err != nil {\n",
    "        fmt.Println(\"os.Open: \",err)\n",
    "    }\n",
    "// read in file as csv\n",
    "reader := csv.NewReader(f)\n",
    "records, err := reader.ReadAll()\n",
    "if err != nil {\n",
    "    fmt.Println(\"ReadAll: \", err)\n",
    "}\n",
    "size:=len(records)\n",
    "fmt.Println(\"size: \", size)\n",
    "images := make ([]GammaImage, size)\n",
    "//store data for making plot\n",
    "for idx, img := range records{\n",
    "    // fmt.Println(img)\n",
    "    // fmt.Printf(\"%T, %v\\n\", img, img)\n",
    "    if idx != 0 {\n",
    "\t\t\tID, _ := strconv.Atoi(img[0])\n",
    "\t\t\tFLength, _ := strconv.ParseFloat(img[1], 64)\n",
    "\t\t\tFWidth, _ := strconv.ParseFloat(img[2], 64)\n",
    "\t\t\tFSize, _ := strconv.ParseFloat(img[3], 64)\n",
    "\t\t\tFConc, _ := strconv.ParseFloat(img[4], 64)\n",
    "\t\t\tFConcl, _ := strconv.ParseFloat(img[5], 64)\n",
    "\t\t\tFAsym, _ := strconv.ParseFloat(img[6], 64)\n",
    "\t\t\tFM3Long, _ := strconv.ParseFloat(img[7], 64)\n",
    "\t\t\tFM3Trans, _ := strconv.ParseFloat(img[8], 64)\n",
    "\t\t\tFAlpha, _ := strconv.ParseFloat(img[9], 64)\n",
    "\t\t\tFDist, _ := strconv.ParseFloat(img[10], 64)\n",
    "\t\t\timage := GammaImage{\n",
    "\t\t\t\tID:       ID,\n",
    "\t\t\t\tFLength:  FLength,\n",
    "\t\t\t\tFWidth:   FWidth,\n",
    "\t\t\t\tFSize:    FSize,\n",
    "\t\t\t\tFConc:    FConc,\n",
    "\t\t\t\tFConcl:   FConcl,\n",
    "\t\t\t\tFAsym:    FAsym,\n",
    "\t\t\t\tFM3Long:  FM3Long,\n",
    "\t\t\t\tFM3Trans: FM3Trans,\n",
    "\t\t\t\tFAlpha:   FAlpha,\n",
    "\t\t\t\tFDist:    FDist,\n",
    "\t\t\t\tClass:    img[11],\n",
    "\t\t\t}\n",
    "        images = append(images, image)\n",
    "    }\n",
    "}\n",
    "f.Close()"
   ]
  },
  {
   "cell_type": "code",
   "execution_count": null,
   "metadata": {},
   "outputs": [],
   "source": [
    "// store width and size for plotting\n",
    "pts := make(plotter.XYs, len(images))\n",
    "for i, img := range images{\n",
    "    pts[i].X = img.FWidth\n",
    "    pts[i].Y = img.FSize\n",
    "}\n",
    "// make new scatter plot\n",
    "scatter, err := plotter.NewScatter(pts)\n",
    "if err != nil {\n",
    "    fmt.Println(err)\n",
    "}\n",
    "// make plot formatter    \n",
    "p, err := plot.New()\n",
    "if err != nil {\n",
    "    fmt.Println(err)\n",
    "}\n",
    "// label plot\n",
    "p.Title.Text = \"Width vs Size\"\n",
    "p.X.Label.Text = \"Width\"\n",
    "p.Y.Label.Text = \"Size\"\n",
    "p.Add(scatter)\n",
    "w, err := p.WriterTo(8*vg.Inch, 8*vg.Inch, \"png\")\n",
    "if err != nil{\n",
    "    panic(err)\n",
    "}\n",
    "// display inside notebook\n",
    "var b bytes.Buffer\n",
    "writer := bufio.NewWriter(&b)\n",
    "w.WriteTo(writer)\n",
    "Display(display.PNG(b.Bytes()))"
   ]
  },
  {
   "cell_type": "markdown",
   "metadata": {},
   "source": [
    "# Build KNN Model\n",
    "---\n",
    "The K-nearest neighbor model is used to classify types based on clustering. It measure the distance between points. Here I am using the golearn/knn[https://github.com/sjwhitworth/golearn] package. "
   ]
  },
  {
   "cell_type": "code",
   "execution_count": null,
   "metadata": {},
   "outputs": [],
   "source": [
    "import \"github.com/sjwhitworth/golearn/knn\"\n",
    "import \"github.com/sjwhitworth/golearn/base\"\n",
    "import \"github.com/sjwhitworth/golearn/evaluation\"\n",
    "\n",
    "dataCSV, err := base.ParseCSVToInstances(\"data/magictelescope_csv.csv\", true)\n",
    "if err != nil {\n",
    "fmt.Println(err)\n",
    "}\n",
    "\n",
    "k := knn.NewKnnClassifier(\"euclidean\",\"kdtree\",2)\n",
    "\n",
    "// Do a training-test split\n",
    "trainData, testData := base.InstancesTrainTestSplit(dataCSV, 0.75)\n",
    "k.Fit(trainData)\n",
    "x,y:=trainData.Size()\n",
    "w,z := testData.Size()\n",
    "fmt.Println(x,y,w,z)\n",
    "\n",
    "// Calculates the Euclidean distance and returns the most popular label\n",
    "predictions, err := k.Predict(testData)\n",
    "if err != nil {\n",
    "fmt.Println(err)\n",
    "}\n",
    "fmt.Println(predictions)\n",
    "\n",
    "// Prints precision/recall metrics\n",
    "confusionMat, err := evaluation.GetConfusionMatrix(testData, predictions)\n",
    "if err != nil {\n",
    "        fmt.Println(\"Unable to get confusion matrix: %s\", err.Error())\n",
    "}\n",
    "\n"
   ]
  },
  {
   "cell_type": "code",
   "execution_count": null,
   "metadata": {},
   "outputs": [],
   "source": []
  }
 ],
 "metadata": {
  "kernelspec": {
   "display_name": "Go",
   "language": "go",
   "name": "gophernotes"
  },
  "language_info": {
   "codemirror_mode": "",
   "file_extension": ".go",
   "mimetype": "",
   "name": "go",
   "nbconvert_exporter": "",
   "pygments_lexer": "",
   "version": "go1.12.9"
  }
 },
 "nbformat": 4,
 "nbformat_minor": 2
}
