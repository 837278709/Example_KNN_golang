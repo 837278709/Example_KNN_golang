{
 "cells": [
  {
   "cell_type": "markdown",
   "metadata": {},
   "source": [
    "# Machine Learning in Go\n",
    "---"
   ]
  },
  {
   "cell_type": "markdown",
   "metadata": {},
   "source": [
    "## What is Machine Learning? \n",
    "---\n",
    "Machine learning is teaching a program to recognize patterns. These patterns, once recognized can predict similar outcomes with extreme \n",
    "]accuracy. \n",
    "\n",
    "There are several steps to building a Machine Learning model. These steps can be accomplished in almost every programming language. Languages like Python and R that have strong mathematical tooling are popular in the Machine Learning community and many libraries have been created to facilitate building these models.\n",
    "\n",
    "Go has a lot of benefits for machine learning. It has strong data typing, it is easily build and deployed. It also allows for concurrecy, which is important to processing large data sets. \n",
    "\n",
    "The plan is to run through setting up, training and testing a model in go. \n",
    "\n",
    "---\n",
    "\n",
    "The data used in this example is from the datahub.io[https://datahub.io/machine-learning/magictelescope]. It is gamma radiation images from hadronic showers. "
   ]
  },
  {
   "cell_type": "markdown",
   "metadata": {},
   "source": [
    "## Understanding Data\n",
    "---\n",
    "Start by accessing your data. We are using a dataframe to view the file because it gives us a nice clean table like view for reading data. The dataframes used here are from the gota/dataframe[https://github.com/go-gota/gota] package. Although good for visualization, dataframe types are not currently useful for anything other than viewing the data. "
   ]
  },
  {
   "cell_type": "code",
   "execution_count": 7,
   "metadata": {},
   "outputs": [
    {
     "name": "stdout",
     "output_type": "stream",
     "text": [
      "[19020x12] DataFrame\n",
      "\n",
      "    ID    fLength:   fWidth:    fSize:   fConc:   fConc1:  fAsym:     ...\n",
      " 0: 1     28.796700  16.002100  2.644900 0.391800 0.198200 27.700400  ...\n",
      " 1: 2     31.603600  11.723500  2.518500 0.530300 0.377300 26.272200  ...\n",
      " 2: 3     162.052000 136.031000 4.061200 0.037400 0.018700 116.741000 ...\n",
      " 3: 4     23.817200  9.572800   2.338500 0.614700 0.392200 27.210700  ...\n",
      " 4: 5     75.136200  30.920500  3.161100 0.316800 0.183200 -5.527700  ...\n",
      " 5: 6     51.624000  21.150200  2.908500 0.242000 0.134000 50.876100  ...\n",
      " 6: 7     48.246800  17.356500  3.033200 0.252900 0.151500 8.573000   ...\n",
      " 7: 8     26.789700  13.759500  2.552100 0.423600 0.217400 29.633900  ...\n",
      " 8: 9     96.232700  46.516500  4.154000 0.077900 0.039000 110.355000 ...\n",
      " 9: 10    46.761900  15.199300  2.578600 0.337700 0.191300 24.754800  ...\n",
      "    ...   ...        ...        ...      ...      ...      ...        ...\n",
      "    <int> <float>    <float>    <float>  <float>  <float>  <float>    ...\n",
      "\n",
      "Not Showing: fM3Long: <float>, fM3Trans: <float>, fAlpha: <float>, fDist: <float>,\n",
      "class: <string>\n",
      "\n"
     ]
    }
   ],
   "source": [
    "import (\n",
    "    \"os\"\n",
    "    \"fmt\"\n",
    "    \"bufio\"\n",
    "    \"github.com/kniren/gota/dataframe\"\n",
    ")\n",
    "// access file\n",
    "f, err := os.Open(\"data/magictelescope_csv.csv\")\n",
    "if err != nil {\n",
    "    fmt.Println(err)\n",
    "}\n",
    "r := bufio.NewReader(f)\n",
    "// parse data into the data frame type. \n",
    "df := dataframe.ReadCSV(r)\n",
    "fmt.Println(df)\n",
    "f.Close()"
   ]
  },
  {
   "cell_type": "markdown",
   "metadata": {},
   "source": [
    "Dataframes also do dasic statistical operations on data to we can get a clear understanding of what our data is and if the data needs to be further cleaned. "
   ]
  },
  {
   "cell_type": "code",
   "execution_count": 14,
   "metadata": {},
   "outputs": [
    {
     "data": {
      "text/plain": [
       "[7x13] DataFrame\n",
       "\n",
       "    column   ID           fLength:   fWidth:    fSize:   fConc:   fConc1:  ...\n",
       " 0: mean     9510.500000  53.250154  22.180966  2.825017 0.380327 0.214657 ...\n",
       " 1: stddev   5490.745396  42.364855  18.346056  0.472599 0.182813 0.110511 ...\n",
       " 2: min      1.000000     4.283500   0.000000   1.941300 0.013100 0.000300 ...\n",
       " 3: 25%      4755.000000  24.336000  11.863500  2.477100 0.235800 0.128400 ...\n",
       " 4: 50%      9510.000000  37.146400  17.139200  2.739600 0.354100 0.196500 ...\n",
       " 5: 75%      14265.000000 70.117500  24.739000  3.101600 0.503700 0.285200 ...\n",
       " 6: max      19020.000000 334.177000 256.382000 5.323300 0.893000 0.675200 ...\n",
       "    <string> <float>      <float>    <float>    <float>  <float>  <float>  ...\n",
       "\n",
       "Not Showing: fAsym: <float>, fM3Long: <float>, fM3Trans: <float>, fAlpha: <float>,\n",
       "fDist: <float>, class: <string>\n"
      ]
     },
     "execution_count": 14,
     "metadata": {},
     "output_type": "execute_result"
    }
   ],
   "source": [
    "df.Describe()"
   ]
  },
  {
   "cell_type": "code",
   "execution_count": 15,
   "metadata": {},
   "outputs": [
    {
     "name": "stdout",
     "output_type": "stream",
     "text": [
      "[19020x4] DataFrame\n",
      "\n",
      "    ID    fWidth:    fSize:   class:  \n",
      " 0: 1     16.002100  2.644900 g       \n",
      " 1: 2     11.723500  2.518500 g       \n",
      " 2: 3     136.031000 4.061200 g       \n",
      " 3: 4     9.572800   2.338500 g       \n",
      " 4: 5     30.920500  3.161100 g       \n",
      " 5: 6     21.150200  2.908500 g       \n",
      " 6: 7     17.356500  3.033200 g       \n",
      " 7: 8     13.759500  2.552100 g       \n",
      " 8: 9     46.516500  4.154000 g       \n",
      " 9: 10    15.199300  2.578600 g       \n",
      "    ...   ...        ...      ...     \n",
      "    <int> <float>    <float>  <string>\n",
      "\n"
     ]
    },
    {
     "data": {
      "text/plain": [
       "529 <nil>"
      ]
     },
     "execution_count": 15,
     "metadata": {},
     "output_type": "execute_result"
    }
   ],
   "source": [
    "fmt.Println(df.Select([]string{\"ID\", \"fWidth:\", \"fSize:\",\"class:\"}))"
   ]
  },
  {
   "cell_type": "markdown",
   "metadata": {},
   "source": [
    "The last step for understanding our data is visualizing it. We are using the gonum/plot [https://github.com/gonum/plot] library to make a scatter plot of the width vs size. "
   ]
  },
  {
   "cell_type": "code",
   "execution_count": null,
   "metadata": {},
   "outputs": [],
   "source": [
    "import (\n",
    "    \"bytes\"\n",
    "    \"fmt\"\n",
    "    \"encoding/csv\"\n",
    "    \"gonum.org/v1/plot\"\n",
    "    \"gonum.org/v1/plot/vg\"\n",
    "    \"gonum.org/v1/plot/plotter\"\n",
    "    \"strconv\"\n",
    ")\n",
    "\n",
    "type GammaImage struct {\n",
    "    ID int\n",
    "    FLength float64\n",
    "    FWidth float64\n",
    "    FSize float64\n",
    "    FConc float64\n",
    "    FConcl float64\n",
    "    FAsym float64\n",
    "    FM3Long float64\n",
    "    FM3Trans float64\n",
    "    FAlpha float64\n",
    "    FDist float64\n",
    "    Class string\n",
    "}\n",
    "\n",
    "f, err := os.Open(\"data/magictelescope_csv.csv\")\n",
    "    if err != nil {\n",
    "        fmt.Println(err)\n",
    "    }\n",
    "// read in file as csv\n",
    "reader := csv.NewReader(f)\n",
    "records, err := reader.ReadAll()\n",
    "if err != nil {\n",
    "    fmt.Println(err)\n",
    "}\n",
    "size:=len(records)\n",
    "images := make ([]GammaImage, size)\n",
    "//store data for making plot\n",
    "for idx, img := range records{\n",
    "    if idx != 0 {\n",
    "        image := GammaImage{\n",
    "            ID: strconv.Atoi(img[0]),\n",
    "            FLength: strconv.ParseFloat(img[1], 64),\n",
    "            FWidth: strconv.ParseFloat(img[2], 64),\n",
    "            FSize: strconv.ParseFloat(img[3], 64),\n",
    "            FConc: strconv.ParseFloat(img[4], 64),\n",
    "            FConcl: strconv.ParseFloat(img[5], 64),\n",
    "            FAsym: strconv.ParseFloat(img[6], 64),\n",
    "            FM3Long: strconv.ParseFloat(img[7], 64),\n",
    "            FM3Trans: strconv.ParseFloat(img[8], 64),\n",
    "            FAlpha: strconv.ParseFloat(img[9], 64),\n",
    "            FDist: strconv.ParseFloat(img[10], 64),\n",
    "            Class: img[11],\n",
    "        }\n",
    "        images = append(images, image)\n",
    "    }\n",
    "}\n",
    "f.Close()"
   ]
  },
  {
   "cell_type": "code",
   "execution_count": 16,
   "metadata": {},
   "outputs": [
    {
     "ename": "ERROR",
     "evalue": "repl.go:1:13: undefined \"plotter\" in plotter.XYs <*ast.SelectorExpr>",
     "output_type": "error",
     "traceback": [
      "repl.go:1:13: undefined \"plotter\" in plotter.XYs <*ast.SelectorExpr>"
     ]
    }
   ],
   "source": [
    "// store width and size for plotting\n",
    "pts := make(plotter.XYs, len(images))\n",
    "for i, img := range images{\n",
    "    pts[i].X = img.FWidth\n",
    "    pts[i].Y = img.FSize\n",
    "}\n",
    "// make new scatter plot\n",
    "scatter, err := plotter.NewScatter(pts)\n",
    "if err != nil {\n",
    "    fmt.Println(err)\n",
    "}\n",
    "// make plot formatter    \n",
    "p, err := plot.New()\n",
    "if err != nil {\n",
    "    fmt.Println(err)\n",
    "}\n",
    "// label plot\n",
    "p.Title.Text = \"Width vs Size\"\n",
    "p.X.Label.Text = \"Width\"\n",
    "p.Y.Label.Text = \"Size\"\n",
    "p.Add(scatter)\n",
    "w, err := p.WriterTo(8*vg.Inch, 8*vg.Inch, \"png\")\n",
    "if err != nil{\n",
    "    panic(err)\n",
    "}\n",
    "// display inside notebook\n",
    "var b bytes.Buffer\n",
    "writer := bufio.NewWriter(&b)\n",
    "w.WriteTo(writer)\n",
    "Display(display.PNG(b.Bytes()))"
   ]
  },
  {
   "cell_type": "markdown",
   "metadata": {},
   "source": [
    "# Build KNN Model\n",
    "---\n",
    "The K-nearest neighbor model is used to classify types based on clustering. It measure the distance between points. Here I am using the golearn/knn[https://github.com/sjwhitworth/golearn] package. "
   ]
  },
  {
   "cell_type": "code",
   "execution_count": 20,
   "metadata": {},
   "outputs": [
    {
     "name": "stdout",
     "output_type": "stream",
     "text": [
      "12 4735 12 14285\n"
     ]
    },
    {
     "ename": "ERROR",
     "evalue": "matrix: zero length in matrix dimension",
     "output_type": "error",
     "traceback": [
      "matrix: zero length in matrix dimension"
     ]
    }
   ],
   "source": [
    "import \"github.com/sjwhitworth/golearn/knn\"\n",
    "import \"github.com/sjwhitworth/golearn/base\"\n",
    "import \"github.com/sjwhitworth/golearn/evaluation\"\n",
    "\n",
    "dataCSV, err := base.ParseCSVToInstances(\"data/magictelescope_csv.csv\", true)\n",
    "if err != nil {\n",
    "fmt.Println(err)\n",
    "}\n",
    "\n",
    "k := knn.NewKnnClassifier(\"euclidean\",\"kdtree\",2)\n",
    "\n",
    "// Do a training-test split\n",
    "trainData, testData := base.InstancesTrainTestSplit(dataCSV, 0.75)\n",
    "k.Fit(trainData)\n",
    "x,y:=trainData.Size()\n",
    "w,z := testData.Size()\n",
    "fmt.Println(x,y,w,z)\n",
    "\n",
    "// Calculates the Euclidean distance and returns the most popular label\n",
    "predictions, err := k.Predict(testData)\n",
    "if err != nil {\n",
    "fmt.Println(err)\n",
    "}\n",
    "fmt.Println(predictions)\n",
    "\n",
    "// Prints precision/recall metrics\n",
    "confusionMat, err := evaluation.GetConfusionMatrix(testData, predictions)\n",
    "if err != nil {\n",
    "        fmt.Println(\"Unable to get confusion matrix: %s\", err.Error())\n",
    "}\n",
    "\n"
   ]
  },
  {
   "cell_type": "code",
   "execution_count": null,
   "metadata": {},
   "outputs": [],
   "source": []
  }
 ],
 "metadata": {
  "kernelspec": {
   "display_name": "Go",
   "language": "go",
   "name": "gophernotes"
  },
  "language_info": {
   "codemirror_mode": "",
   "file_extension": ".go",
   "mimetype": "",
   "name": "go",
   "nbconvert_exporter": "",
   "pygments_lexer": "",
   "version": "go1.11.5"
  }
 },
 "nbformat": 4,
 "nbformat_minor": 2
}
