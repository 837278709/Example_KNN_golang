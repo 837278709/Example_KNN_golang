{
 "cells": [
  {
   "cell_type": "markdown",
   "metadata": {},
   "source": [
    "# Machine Learning in Go\n",
    "---"
   ]
  },
  {
   "cell_type": "markdown",
   "metadata": {},
   "source": [
    "## What is Machine Learning? \n",
    "---\n",
    "Machine learning is teaching a program to recognize patterns. These patterns, once recognized can predict similar outcomes with extreme accuracy. \n",
    "\n",
    "There are several steps to building a Machine Learning model. These steps can be accomplished in almost every programming language. Languages like Python and R that have strong mathematical tooling are popular in the Machine Learning community and many libraries have been created to facilitate building these models.\n",
    "\n",
    "Go has a lot of benefits for machine learning. It has strong data typing, it is easily build and deployed. It also allows for concurrecy, which is important to processing large data sets. \n",
    "\n",
    "The plan is to run through setting up, training and testing a model in go. "
   ]
  },
  {
   "cell_type": "markdown",
   "metadata": {},
   "source": [
    "## Understanding Data\n",
    "---\n",
    "Start by accessing your data. "
   ]
  },
  {
   "cell_type": "code",
   "execution_count": 11,
   "metadata": {},
   "outputs": [
    {
     "data": {
      "text/plain": [
       "[19020x12] DataFrame\n",
       "\n",
       "    ID    fLength:   fWidth:    fSize:   fConc:   fConc1:  fAsym:     ...\n",
       " 0: 1     28.796700  16.002100  2.644900 0.391800 0.198200 27.700400  ...\n",
       " 1: 2     31.603600  11.723500  2.518500 0.530300 0.377300 26.272200  ...\n",
       " 2: 3     162.052000 136.031000 4.061200 0.037400 0.018700 116.741000 ...\n",
       " 3: 4     23.817200  9.572800   2.338500 0.614700 0.392200 27.210700  ...\n",
       " 4: 5     75.136200  30.920500  3.161100 0.316800 0.183200 -5.527700  ...\n",
       " 5: 6     51.624000  21.150200  2.908500 0.242000 0.134000 50.876100  ...\n",
       " 6: 7     48.246800  17.356500  3.033200 0.252900 0.151500 8.573000   ...\n",
       " 7: 8     26.789700  13.759500  2.552100 0.423600 0.217400 29.633900  ...\n",
       " 8: 9     96.232700  46.516500  4.154000 0.077900 0.039000 110.355000 ...\n",
       " 9: 10    46.761900  15.199300  2.578600 0.337700 0.191300 24.754800  ...\n",
       "    ...   ...        ...        ...      ...      ...      ...        ...\n",
       "    <int> <float>    <float>    <float>  <float>  <float>  <float>    ...\n",
       "\n",
       "Not Showing: fM3Long: <float>, fM3Trans: <float>, fAlpha: <float>, fDist: <float>,\n",
       "class: <string>\n"
      ]
     },
     "execution_count": 11,
     "metadata": {},
     "output_type": "execute_result"
    }
   ],
   "source": [
    "import (\n",
    "    \"os\"\n",
    "    \"bufio\"\n",
    "    \"github.com/kniren/gota/dataframe\"\n",
    ")\n",
    "f, err := os.Open(\"data/magictelescope_csv.csv\")\n",
    "if err != nil {\n",
    "    panic(err)\n",
    "}\n",
    "r := bufio.NewReader(f)\n",
    "df := dataframe.ReadCSV(r)\n",
    "df"
   ]
  },
  {
   "cell_type": "code",
   "execution_count": 12,
   "metadata": {},
   "outputs": [
    {
     "ename": "ERROR",
     "evalue": "repl.go:12:9: undefined \"fmt\" in fmt.Println <*ast.SelectorExpr>",
     "output_type": "error",
     "traceback": [
      "repl.go:12:9: undefined \"fmt\" in fmt.Println <*ast.SelectorExpr>"
     ]
    }
   ],
   "source": [
    "import (\n",
    "    \"bytes\"\n",
    "    \"gonum.org/v1/plot\"\n",
    "    \"gonum.org/v1/plot/vg\"\n",
    ")\n",
    "\n",
    "type GammaImage struct {\n",
    "    ID int\n",
    "    FLength float64\n",
    "    FWidth float64\n",
    "}\n",
    "    p, err := plot.New()\n",
    "    if err != nil {\n",
    "        fmt.Println(err)\n",
    "    }\n",
    "    \n",
    "    w, err := p.WriterTo(8*vg.Inch, 8*vg.Inch, \"png\")\n",
    "    if err != nil{\n",
    "        panic(err)\n",
    "    }\n",
    "    var b bytes.Buffer\n",
    "    writer := bufio.NewWriter(&b)\n",
    "    w.WriteTo(writer)\n",
    "    Display(display.PNG(b.Bytes()))\n"
   ]
  },
  {
   "cell_type": "code",
   "execution_count": null,
   "metadata": {},
   "outputs": [],
   "source": []
  }
 ],
 "metadata": {
  "kernelspec": {
   "display_name": "Go",
   "language": "go",
   "name": "gophernotes"
  },
  "language_info": {
   "codemirror_mode": "",
   "file_extension": ".go",
   "mimetype": "",
   "name": "go",
   "nbconvert_exporter": "",
   "pygments_lexer": "",
   "version": "go1.11.5"
  }
 },
 "nbformat": 4,
 "nbformat_minor": 2
}
